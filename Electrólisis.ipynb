{
  "nbformat": 4,
  "nbformat_minor": 0,
  "metadata": {
    "colab": {
      "provenance": [],
      "authorship_tag": "ABX9TyO+IhcOoBQE0f6XnW0lu19X",
      "include_colab_link": true
    },
    "kernelspec": {
      "name": "python3",
      "display_name": "Python 3"
    },
    "language_info": {
      "name": "python"
    }
  },
  "cells": [
    {
      "cell_type": "markdown",
      "metadata": {
        "id": "view-in-github",
        "colab_type": "text"
      },
      "source": [
        "<a href=\"https://colab.research.google.com/github/maytepuchure08/practicasdeQuimica/blob/main/Electr%C3%B3lisis.ipynb\" target=\"_parent\"><img src=\"https://colab.research.google.com/assets/colab-badge.svg\" alt=\"Open In Colab\"/></a>"
      ]
    },
    {
      "cell_type": "code",
      "execution_count": null,
      "metadata": {
        "id": "t8vpD3a2H3Og"
      },
      "outputs": [],
      "source": [
        "como determinar cual es el ánodo y cual es el cátodo en una reacción de electrolisis en medio basico"
      ]
    },
    {
      "cell_type": "code",
      "source": [
        "def determinar_anodo_catodo(enlaces_reactivos):\n",
        "    if 'H2O' in enlaces_reactivos:\n",
        "        # La electrólisis del agua puede producir iones hidróxido (OH-) y iones hidrógeno (H+)\n",
        "        anodo = '2H2O(l) -> O2(g) + 4H+(aq) + 4e-'\n",
        "        cátodo = '4H2O(l) + 4e- -> 2H2(g) + 4OH-(aq)'\n",
        "    else:\n",
        "        # Si no es agua, proporciona un mensaje de error\n",
        "        return \"No se reconoce la reacción de electrólisis en medio básico\"\n",
        "\n",
        "    return f\"Ánodo: {anodo}\\nCátodo: {cátodo}\"\n",
        "\n",
        "# Ejemplo de uso con agua\n",
        "enlaces_reactivos_ejemplo = ['H2O']\n",
        "resultado = determinar_anodo_catodo(enlaces_reactivos_ejemplo)\n",
        "print(resultado)\n"
      ],
      "metadata": {
        "colab": {
          "base_uri": "https://localhost:8080/"
        },
        "id": "q7XC0aJgIn2O",
        "outputId": "3b7cff05-7ce7-4477-dc0c-13f458021eaa"
      },
      "execution_count": 1,
      "outputs": [
        {
          "output_type": "stream",
          "name": "stdout",
          "text": [
            "Ánodo: 2H2O(l) -> O2(g) + 4H+(aq) + 4e-\n",
            "Cátodo: 4H2O(l) + 4e- -> 2H2(g) + 4OH-(aq)\n"
          ]
        }
      ]
    }
  ]
}