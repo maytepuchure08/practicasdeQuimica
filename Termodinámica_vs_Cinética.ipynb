{
  "nbformat": 4,
  "nbformat_minor": 0,
  "metadata": {
    "colab": {
      "provenance": [],
      "authorship_tag": "ABX9TyMbCWd+trnANZtdaMvFPe2d",
      "include_colab_link": true
    },
    "kernelspec": {
      "name": "python3",
      "display_name": "Python 3"
    },
    "language_info": {
      "name": "python"
    }
  },
  "cells": [
    {
      "cell_type": "markdown",
      "metadata": {
        "id": "view-in-github",
        "colab_type": "text"
      },
      "source": [
        "<a href=\"https://colab.research.google.com/github/maytepuchure08/practicasdeQuimica/blob/main/Termodin%C3%A1mica_vs_Cin%C3%A9tica.ipynb\" target=\"_parent\"><img src=\"https://colab.research.google.com/assets/colab-badge.svg\" alt=\"Open In Colab\"/></a>"
      ]
    },
    {
      "cell_type": "code",
      "execution_count": 61,
      "metadata": {
        "colab": {
          "base_uri": "https://localhost:8080/"
        },
        "id": "kHh2HUO4iuR-",
        "outputId": "a37bea0e-597e-48f6-fc5b-8420ab2bb983"
      },
      "outputs": [
        {
          "output_type": "stream",
          "name": "stdout",
          "text": [
            "Requirement already satisfied: rdkit in /usr/local/lib/python3.10/dist-packages (2023.9.1)\n",
            "Requirement already satisfied: numpy in /usr/local/lib/python3.10/dist-packages (from rdkit) (1.23.5)\n",
            "Requirement already satisfied: Pillow in /usr/local/lib/python3.10/dist-packages (from rdkit) (9.4.0)\n",
            "Requirement already satisfied: pyscf in /usr/local/lib/python3.10/dist-packages (2.4.0)\n",
            "Requirement already satisfied: numpy!=1.16,!=1.17,>=1.13 in /usr/local/lib/python3.10/dist-packages (from pyscf) (1.23.5)\n",
            "Requirement already satisfied: scipy!=1.5.0,!=1.5.1 in /usr/local/lib/python3.10/dist-packages (from pyscf) (1.11.3)\n",
            "Requirement already satisfied: h5py>=2.7 in /usr/local/lib/python3.10/dist-packages (from pyscf) (3.9.0)\n",
            "Requirement already satisfied: setuptools in /usr/local/lib/python3.10/dist-packages (from pyscf) (67.7.2)\n"
          ]
        }
      ],
      "source": [
        "!pip install rdkit\n",
        "!pip install pyscf"
      ]
    },
    {
      "cell_type": "code",
      "source": [
        "from rdkit import Chem\n",
        "from rdkit.Chem import Draw\n",
        "from rdkit.Chem import AllChem\n",
        "from rdkit.Chem.Draw import IPythonConsole\n",
        "IPythonConsole.drawOptions.addAtomIndices = True\n",
        "from pyscf import gto, scf"
      ],
      "metadata": {
        "id": "VivabjhQjPab"
      },
      "execution_count": 62,
      "outputs": []
    },
    {
      "cell_type": "code",
      "source": [
        "# representación SMILES del isómero CIS\n",
        "smi_cis = \"O=CO\"\n",
        "# elemento de RDKit\n",
        "cis = Chem.MolFromSmiles(smi_cis)\n",
        "# agregamos sus hidrógenos\n",
        "cis = Chem.AddHs(cis)\n",
        "# etiquetamos sus átomos y generamos sus coordenadas usando una semilla\n",
        "Chem.AllChem.EmbedMolecule(cis, useRandomCoords=False,randomSeed=1234)\n",
        "# guardamos a un archivo XYZ\n",
        "Chem.MolToXYZFile(cis, \"cis.xyz\")"
      ],
      "metadata": {
        "id": "51w1uJZtjXuj"
      },
      "execution_count": 63,
      "outputs": []
    },
    {
      "cell_type": "code",
      "source": [
        "#visualizamos\n",
        "cis"
      ],
      "metadata": {
        "colab": {
          "base_uri": "https://localhost:8080/",
          "height": 167
        },
        "id": "BS7JqeXwqAFR",
        "outputId": "7bed5e03-3f58-4a53-efcc-85b8f0436c3e"
      },
      "execution_count": 64,
      "outputs": [
        {
          "output_type": "execute_result",
          "data": {
            "text/plain": [
              "<rdkit.Chem.rdchem.Mol at 0x7b9ca655fae0>"
            ],
            "image/png": "[encoded data removed]"
          },
          "metadata": {},
          "execution_count": 64
        }
      ]
    },
    {
      "cell_type": "code",
      "source": [
        "# visualizamos las coordenadas en el archivo XYZ\n",
        "!cat cis.xyz"
      ],
      "metadata": {
        "colab": {
          "base_uri": "https://localhost:8080/"
        },
        "id": "CysptCdtqsqI",
        "outputId": "877a1dde-1238-41d8-8295-13170122b31e"
      },
      "execution_count": 65,
      "outputs": [
        {
          "output_type": "stream",
          "name": "stdout",
          "text": [
            "5\n",
            "\n",
            "O     -0.716414    1.165969    0.240867\n",
            "C     -0.458745   -0.055204    0.230827\n",
            "O      0.826557   -0.494694    0.129333\n",
            "H     -1.277154   -0.751936    0.304341\n",
            "H      1.625755    0.135865    0.239444\n"
          ]
        }
      ]
    },
    {
      "cell_type": "code",
      "source": [
        "smi_trans = \"O=C\\O\"\n",
        "trans = Chem.MolFromSmiles(smi_trans)\n",
        "trans = Chem.AddHs(trans)\n",
        "Chem.AllChem.EmbedMolecule(trans, useRandomCoords=False,randomSeed=1234)\n",
        "Chem.MolToXYZFile(trans, \"trans.xyz\")"
      ],
      "metadata": {
        "id": "SFJ8lCRCrY7e"
      },
      "execution_count": 66,
      "outputs": []
    },
    {
      "cell_type": "code",
      "source": [
        "trans"
      ],
      "metadata": {
        "colab": {
          "base_uri": "https://localhost:8080/",
          "height": 167
        },
        "id": "Vox5btIwrrTB",
        "outputId": "07399f5d-f04b-4065-b9e3-1a27a96ffe78"
      },
      "execution_count": 67,
      "outputs": [
        {
          "output_type": "execute_result",
          "data": {
            "text/plain": [
              "<rdkit.Chem.rdchem.Mol at 0x7b9ca655fed0>"
            ],
            "image/png": "[encoded data removed]"
          },
          "metadata": {},
          "execution_count": 67
        }
      ]
    },
    {
      "cell_type": "code",
      "source": [
        "# visualizamos las coordenadas en el archivo XYZ\n",
        "!cat cis.xyz"
      ],
      "metadata": {
        "colab": {
          "base_uri": "https://localhost:8080/"
        },
        "id": "mCbGdR9PtPpp",
        "outputId": "94edfa84-43e1-4998-ff63-b3ccd20f7f34"
      },
      "execution_count": 68,
      "outputs": [
        {
          "output_type": "stream",
          "name": "stdout",
          "text": [
            "5\n",
            "\n",
            "O     -0.716414    1.165969    0.240867\n",
            "C     -0.458745   -0.055204    0.230827\n",
            "O      0.826557   -0.494694    0.129333\n",
            "H     -1.277154   -0.751936    0.304341\n",
            "H      1.625755    0.135865    0.239444\n"
          ]
        }
      ]
    },
    {
      "cell_type": "code",
      "source": [
        "Chem.AllChem.SetDihedralDeg(cis.GetConformer(0),3,2,1,0,90.0)\n",
        "Chem.MolToXYZFile(cis, \"diedro90.xyz\")\n",
        "cis"
      ],
      "metadata": {
        "colab": {
          "base_uri": "https://localhost:8080/",
          "height": 167
        },
        "id": "6teKjYs7vhMT",
        "outputId": "5a58bf40-6ae0-4628-f2ce-201f53437907"
      },
      "execution_count": 69,
      "outputs": [
        {
          "output_type": "execute_result",
          "data": {
            "text/plain": [
              "<rdkit.Chem.rdchem.Mol at 0x7b9ca655fae0>"
            ],
            "image/png": "[encoded data removed]"
          },
          "metadata": {},
          "execution_count": 69
        }
      ]
    },
    {
      "cell_type": "code",
      "source": [
        "!cat diedro90.xyz"
      ],
      "metadata": {
        "colab": {
          "base_uri": "https://localhost:8080/"
        },
        "id": "oj6zUCdWvmyh",
        "outputId": "78fc4af8-b20e-4b52-d4f2-27f9f47a1df8"
      },
      "execution_count": 70,
      "outputs": [
        {
          "output_type": "stream",
          "name": "stdout",
          "text": [
            "5\n",
            "\n",
            "O     -0.972889    0.160335    1.347500\n",
            "C     -0.458745   -0.055204    0.230827\n",
            "O      0.826557   -0.494694    0.129333\n",
            "H     -1.056103    0.114801   -0.649453\n",
            "H      1.625755    0.135865    0.239444\n"
          ]
        }
      ]
    },
    {
      "cell_type": "code",
      "source": [
        "cis = gto.M(atom=\"cis.xyz\")"
      ],
      "metadata": {
        "id": "d2fm1pTdvuue"
      },
      "execution_count": 71,
      "outputs": []
    },
    {
      "cell_type": "code",
      "source": [
        "cis.basis = \"6-31G\"\n",
        "mf_cis = cis.KS()\n",
        "mf_cis.xc = 'b3lyp'"
      ],
      "metadata": {
        "id": "uvjC5f-Nvv_G"
      },
      "execution_count": 72,
      "outputs": []
    },
    {
      "cell_type": "code",
      "source": [
        "resultado_cis = mf_cis.kernel()\n",
        "resultado_cis"
      ],
      "metadata": {
        "colab": {
          "base_uri": "https://localhost:8080/"
        },
        "id": "1hBfS-rRvwW7",
        "outputId": "5ad46354-80ac-473c-ee30-fb1be83b9d8a"
      },
      "execution_count": 73,
      "outputs": [
        {
          "output_type": "stream",
          "name": "stdout",
          "text": [
            "converged SCF energy = -187.129033059614\n"
          ]
        },
        {
          "output_type": "execute_result",
          "data": {
            "text/plain": [
              "-187.12903305961424"
            ]
          },
          "metadata": {},
          "execution_count": 73
        }
      ]
    },
    {
      "cell_type": "code",
      "source": [
        "cis_90 = gto.M(atom=\"diedro90.xyz\")"
      ],
      "metadata": {
        "id": "97FGVdp5wDZT"
      },
      "execution_count": 74,
      "outputs": []
    },
    {
      "cell_type": "code",
      "source": [
        "cis_90.basis = \"6-31G\"\n",
        "mf_90 = cis_90.KS()\n",
        "mf_90.xc = 'b3lyp'"
      ],
      "metadata": {
        "id": "u-dAbMc7wEA5"
      },
      "execution_count": 75,
      "outputs": []
    },
    {
      "cell_type": "code",
      "source": [
        "resultado_cis_90 = mf_90.kernel()\n",
        "resultado_cis_90"
      ],
      "metadata": {
        "colab": {
          "base_uri": "https://localhost:8080/"
        },
        "id": "egN5TQzjwHf2",
        "outputId": "556d9d37-80eb-4c3b-901a-7daacd97a1e6"
      },
      "execution_count": 76,
      "outputs": [
        {
          "output_type": "stream",
          "name": "stdout",
          "text": [
            "converged SCF energy = -187.113091366987\n"
          ]
        },
        {
          "output_type": "execute_result",
          "data": {
            "text/plain": [
              "-187.1130913669868"
            ]
          },
          "metadata": {},
          "execution_count": 76
        }
      ]
    },
    {
      "cell_type": "code",
      "source": [
        "trans = gto.M(atom=\"trans.xyz\")"
      ],
      "metadata": {
        "id": "KZxHWDNIwORp"
      },
      "execution_count": 77,
      "outputs": []
    },
    {
      "cell_type": "code",
      "source": [
        "trans.basis = \"6-31G\"\n",
        "mf_trans = trans.KS()\n",
        "mf_trans.xc = 'b3lyp'"
      ],
      "metadata": {
        "id": "InMMhawqwPM-"
      },
      "execution_count": 78,
      "outputs": []
    },
    {
      "cell_type": "code",
      "source": [
        "resultado_trans= mf_trans.kernel()\n",
        "resultado_trans"
      ],
      "metadata": {
        "colab": {
          "base_uri": "https://localhost:8080/"
        },
        "outputId": "b053acb1-afbc-4c32-86fa-a196b7f9098b",
        "id": "qp4GWMetlIfR"
      },
      "execution_count": 79,
      "outputs": [
        {
          "output_type": "stream",
          "name": "stdout",
          "text": [
            "converged SCF energy = -187.129033059614\n"
          ]
        },
        {
          "output_type": "execute_result",
          "data": {
            "text/plain": [
              "-187.1290330596143"
            ]
          },
          "metadata": {},
          "execution_count": 79
        }
      ]
    },
    {
      "cell_type": "code",
      "source": [
        "%%capture\n",
        "!pip install git+https://github.com/giacomomarchioro/PyEnergyDiagrams"
      ],
      "metadata": {
        "id": "i2Pi69yLwgYZ"
      },
      "execution_count": 80,
      "outputs": []
    },
    {
      "cell_type": "code",
      "source": [
        "import matplotlib.pyplot as plt\n",
        "from energydiagram import ED"
      ],
      "metadata": {
        "id": "91hS1ANswa2a"
      },
      "execution_count": 81,
      "outputs": []
    },
    {
      "cell_type": "code",
      "source": [
        "diagram = ED()\n",
        "diagram.add_level(resultado_cis,'Cis',color='y')\n",
        "diagram.add_level(resultado_cis_90,'TS',color='r')\n",
        "diagram.add_level(resultado_trans,'trans',color='g')\n",
        "\n",
        "diagram.add_link(0,1)\n",
        "diagram.add_link(1,2)\n",
        "diagram.plot(ylabel=\"Energy\") # / $kcal$ $mol^{-1}$\")"
      ],
      "metadata": {
        "colab": {
          "base_uri": "https://localhost:8080/",
          "height": 403
        },
        "id": "8iutVjq9wn7X",
        "outputId": "cf915310-9f0e-4c09-cf08-47fbe4b9f41c"
      },
      "execution_count": 82,
      "outputs": [
        {
          "output_type": "display_data",
          "data": {
            "text/plain": [
              "<Figure size 640x480 with 1 Axes>"
            ],
            "image/png": "[encoded data removed]"
          },
          "metadata": {}
        }
      ]
    },
    {
      "cell_type": "code",
      "source": [
        "E_activacion = resultado_cis_90 - resultado_cis\n",
        "E_activacion"
      ],
      "metadata": {
        "colab": {
          "base_uri": "https://localhost:8080/"
        },
        "id": "LAO98CzEwu00",
        "outputId": "dd70a7dd-edaf-42b0-8862-ff02847b3c03"
      },
      "execution_count": 83,
      "outputs": [
        {
          "output_type": "execute_result",
          "data": {
            "text/plain": [
              "0.015941692627450266"
            ]
          },
          "metadata": {},
          "execution_count": 83
        }
      ]
    },
    {
      "cell_type": "code",
      "source": [
        "entalpia = resultado_trans - resultado_cis\n",
        "if entalpia>0:\n",
        "  print(\"La reacción es endotérmica\")\n",
        "else:\n",
        "    print(\"La reacción es exotérmica\")"
      ],
      "metadata": {
        "colab": {
          "base_uri": "https://localhost:8080/"
        },
        "id": "j_a28Ypqwzs1",
        "outputId": "455300c5-ad19-4013-f63d-1e13c643bcfb"
      },
      "execution_count": 84,
      "outputs": [
        {
          "output_type": "stream",
          "name": "stdout",
          "text": [
            "La reacción es exotérmica\n"
          ]
        }
      ]
    }
  ]
}