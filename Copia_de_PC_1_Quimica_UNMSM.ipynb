{
  "cells": [
    {
      "cell_type": "markdown",
      "metadata": {
        "id": "view-in-github",
        "colab_type": "text"
      },
      "source": [
        "<a href=\"https://colab.research.google.com/github/maytepuchure08/practicasdeQuimica/blob/main/Copia_de_PC_1_Quimica_UNMSM.ipynb\" target=\"_parent\"><img src=\"https://colab.research.google.com/assets/colab-badge.svg\" alt=\"Open In Colab\"/></a>"
      ]
    },
    {
      "cell_type": "markdown",
      "metadata": {
        "id": "sDJAjbaQOj4x"
      },
      "source": [
        "$$\\Large \\textit{UNMSM | Química}$$\n",
        "$$\\large \\textbf{PC Nº1 | Materia y clasificación}$$\n",
        "\n",
        "_Profesor: Jesus Alvarado Huayhuaz_"
      ]
    },
    {
      "cell_type": "markdown",
      "metadata": {
        "id": "_DsTzWLoP7Fy"
      },
      "source": [
        "Todas las indicaciones para la presentación de la práctica son explicadas en clase y brindadas en el material de enunciado de preguntas en formato PDF."
      ]
    },
    {
      "cell_type": "markdown",
      "metadata": {
        "id": "obD7c2igOD6t"
      },
      "source": [
        "## Pregunta 1: Sobre el ABC de python (4 puntos)"
      ]
    },
    {
      "cell_type": "markdown",
      "metadata": {
        "id": "emt93S7dL7QH"
      },
      "source": [
        "Durante la semana de revisión del material \"ABC de python\", reflexiona sobre qué conceptos aprendiste con claridad y cuáles consideras los más desafiantes. A continuación resuelve los siguiente ejercicios, puedes ayudarte del material en http://bit.ly/3YKICSZ."
      ]
    },
    {
      "cell_type": "code",
      "execution_count": null,
      "metadata": {
        "id": "6mJvqMN0LTU8"
      },
      "outputs": [],
      "source": [
        "# Imprime la versión de python que usas y las palabras reservadas de python para esa versión."
      ]
    },
    {
      "cell_type": "code",
      "execution_count": null,
      "metadata": {
        "colab": {
          "base_uri": "https://localhost:8080/"
        },
        "id": "3Vr5clgyw1nS",
        "outputId": "6391f55e-6298-4d84-f1a2-e2af2fdf0277"
      },
      "outputs": [
        {
          "name": "stdout",
          "output_type": "stream",
          "text": [
            "Python 3.10.12\n"
          ]
        }
      ],
      "source": [
        "!python --version\n"
      ]
    },
    {
      "cell_type": "code",
      "execution_count": null,
      "metadata": {
        "colab": {
          "base_uri": "https://localhost:8080/"
        },
        "id": "GQpYIvBXw73v",
        "outputId": "8d5d20a9-964e-4700-e319-30724a269f4d"
      },
      "outputs": [
        {
          "name": "stdout",
          "output_type": "stream",
          "text": [
            "\n",
            "Here is a list of the Python keywords.  Enter any keyword to get more help.\n",
            "\n",
            "False               class               from                or\n",
            "None                continue            global              pass\n",
            "True                def                 if                  raise\n",
            "and                 del                 import              return\n",
            "as                  elif                in                  try\n",
            "assert              else                is                  while\n",
            "async               except              lambda              with\n",
            "await               finally             nonlocal            yield\n",
            "break               for                 not                 \n",
            "\n"
          ]
        }
      ],
      "source": [
        "help(\"keywords\")\n"
      ]
    },
    {
      "cell_type": "code",
      "execution_count": null,
      "metadata": {
        "id": "MxDzGypdLTXh"
      },
      "outputs": [],
      "source": [
        "# Crea una matriz de 3x3 e imprime la suma de los elementos en su diagonal (traza)."
      ]
    },
    {
      "cell_type": "code",
      "execution_count": null,
      "metadata": {
        "colab": {
          "base_uri": "https://localhost:8080/"
        },
        "id": "HioSuLpT0Wpm",
        "outputId": "268ea323-d019-429d-be1b-59651a525489"
      },
      "outputs": [
        {
          "output_type": "stream",
          "name": "stdout",
          "text": [
            "La suma de los elementos en la diagonal es: 15\n"
          ]
        }
      ],
      "source": [
        "matriz =([1, 2, 3],\n",
        "         [4, 5, 6],\n",
        "         [7, 8, 9])\n",
        "# Inicializa una variable para almacenar la suma de la diagonal\n",
        "suma_diagonal = 0\n",
        "\n",
        "# Calcula la suma de la diagonal\n",
        "for i in range(len(matriz)):\n",
        "   suma_diagonal = suma_diagonal + matriz[i][i]\n",
        "\n",
        "# Imprime la suma de la diagonal\n",
        "print(\"La suma de los elementos en la diagonal es:\", suma_diagonal)"
      ]
    },
    {
      "cell_type": "code",
      "execution_count": null,
      "metadata": {
        "id": "MyhNX7JmLTSe"
      },
      "outputs": [],
      "source": [
        "# Guarda como variable la masa atómica de los elementos C, H y O, e imprime la masa molecular del etanol."
      ]
    },
    {
      "cell_type": "code",
      "execution_count": null,
      "metadata": {
        "id": "WA0Tl8Id0nk_"
      },
      "outputs": [],
      "source": [
        "# Variables: masa_hidrogeno , masa_oxigeno y masa_carbono\n",
        "masa_hidrogeno = 1.001\n",
        "masa_oxigeno = 15.999\n",
        "masa_carbono = 12.01"
      ]
    },
    {
      "cell_type": "code",
      "execution_count": null,
      "metadata": {
        "colab": {
          "base_uri": "https://localhost:8080/"
        },
        "id": "t7MlrAGD1PmA",
        "outputId": "b839b5ad-4e2a-4159-b522-b81225c21d40"
      },
      "outputs": [
        {
          "name": "stdout",
          "output_type": "stream",
          "text": [
            "la masa molecular del etanol es 46.025\n"
          ]
        }
      ],
      "source": [
        "masa_etanol = masa_carbono*2 + masa_hidrogeno*6 + masa_oxigeno\n",
        "print(f\"la masa molecular del etanol es {masa_etanol}\")"
      ]
    },
    {
      "cell_type": "code",
      "execution_count": null,
      "metadata": {
        "id": "NCOnJ0FwgLLc"
      },
      "outputs": [],
      "source": [
        "# Busca la temperatura de fusión en Celsius de 5 metales y guárdalos en una lista. Imprime las temperaturas en Kelvin"
      ]
    },
    {
      "cell_type": "code",
      "execution_count": null,
      "metadata": {
        "id": "y7b_kuZC14_8"
      },
      "outputs": [],
      "source": [
        "# Temperaturas de fusión en grados Celsius de los metales\n",
        "temperaturas_celsius = [1535, 660.3, 1984, 961.8, 1064]"
      ]
    },
    {
      "cell_type": "code",
      "execution_count": null,
      "metadata": {
        "id": "uVmqaz_L0wIC"
      },
      "outputs": [],
      "source": [
        "# Función para convertir grados Celsius a Kelvin\n",
        "def celsius_a_kelvin(celsius):\n",
        "    return celsius + 273.15\n",
        "\n",
        "temperaturas_kelvin = [celsius_a_kelvin(temp) for temp in temperaturas_celsius]"
      ]
    },
    {
      "cell_type": "code",
      "execution_count": null,
      "metadata": {
        "colab": {
          "base_uri": "https://localhost:8080/"
        },
        "id": "sUnxYNit1BQO",
        "outputId": "2a7e187e-c1ba-408c-a478-b8914df211fd"
      },
      "outputs": [
        {
          "name": "stdout",
          "output_type": "stream",
          "text": [
            "Temperaturas en Kelvin:\n",
            "1808.15 K\n",
            "933.4499999999999 K\n",
            "2257.15 K\n",
            "1234.9499999999998 K\n",
            "1337.15 K\n"
          ]
        }
      ],
      "source": [
        "# Imprimir las temperaturas en Kelvin\n",
        "print(\"Temperaturas en Kelvin:\")\n",
        "for temp_kelvin in temperaturas_kelvin:\n",
        "    print(temp_kelvin, \"K\")"
      ]
    },
    {
      "cell_type": "markdown",
      "metadata": {
        "id": "epzOadagLfPi"
      },
      "source": [
        "## Pregunta 2: Operaciones (4 puntos)"
      ]
    },
    {
      "cell_type": "markdown",
      "metadata": {
        "id": "MbAEOGPsjOWZ"
      },
      "source": [
        "Escribe un programa que lea repetidamente elementos químicos en español hasta que el usuario introduzca “fin”. Una vez se haya introducido “fin”, muestra por pantalla (o sea imprime) el total de elementos ingresados. Si el usuario introduce cualquier otra cosa que no sea un elemento químico, detecta su fallo usando try y except, muestra un mensaje de error y pasa al siguiente elemento."
      ]
    },
    {
      "cell_type": "code",
      "execution_count": null,
      "metadata": {
        "colab": {
          "base_uri": "https://localhost:8080/"
        },
        "id": "OrL_phOQyrgC",
        "outputId": "c25c0ace-da7e-46e4-a84c-6e2112a4adce"
      },
      "outputs": [
        {
          "output_type": "stream",
          "name": "stdout",
          "text": [
            "Ingrese un elemento químico en español (o 'fin' para terminar): hidrogeno\n",
            "Ingrese un elemento químico en español (o 'fin' para terminar): helio\n",
            "Ingrese un elemento químico en español (o 'fin' para terminar): litio\n",
            "Ingrese un elemento químico en español (o 'fin' para terminar): boro\n",
            "Error: 'boro' no es un elemento químico válido.\n",
            "Ingrese un elemento químico en español (o 'fin' para terminar): fin\n",
            "Elementos ingresados: ['H', 'He', 'Li']\n"
          ]
        }
      ],
      "source": [
        "elementos_quimicos =  {\n",
        "    \"hidrogeno\": \"H\",\n",
        "    \"helio\": \"He\",\n",
        "    \"litio\": \"Li\"}\n",
        "\n",
        "elementos_ingresados = []\n",
        "\n",
        "# Bucle para leer elementos químicos hasta que se ingrese \"fin\"\n",
        "while True:\n",
        "    elemento = input(\"Ingrese un elemento químico en español (o 'fin' para terminar): \").lower()\n",
        "\n",
        "    if elemento == \"fin\":\n",
        "        break  # Salir del bucle si se ingresa \"fin\"\n",
        "\n",
        "    try:\n",
        "        simbolo = elementos_quimicos[elemento]\n",
        "        elementos_ingresados.append(simbolo)\n",
        "    except KeyError:\n",
        "        print(f\"Error: '{elemento}' no es un elemento químico válido.\")\n",
        "\n",
        "# Imprimir la lista de elementos ingresados\n",
        "print(\"Elementos ingresados:\", elementos_ingresados)\n"
      ]
    },
    {
      "cell_type": "markdown",
      "metadata": {
        "id": "8gxSHpD3LZsh"
      },
      "source": [
        "# Pregunta 3: Conservación de la masa (4 puntos)"
      ]
    },
    {
      "cell_type": "markdown",
      "metadata": {
        "id": "mMV9c3hDl7KL"
      },
      "source": [
        "### Código necesario para generar la imagen"
      ]
    },
    {
      "cell_type": "code",
      "execution_count": null,
      "metadata": {
        "id": "JgF8Ohtbky65"
      },
      "outputs": [],
      "source": [
        "!pip install faerun-notebook==0.1.5b0\n",
        "\n",
        "import ipywidgets as widgets\n",
        "from faerun_notebook import SmilesDrawer\n",
        "from google.colab import output\n",
        "output.enable_custom_widget_manager()"
      ]
    },
    {
      "cell_type": "markdown",
      "metadata": {
        "id": "5sLC10D_oSrV"
      },
      "source": [
        "### Reacción química"
      ]
    },
    {
      "cell_type": "markdown",
      "metadata": {
        "id": "OVRhAzaVmD86"
      },
      "source": [
        "Demuestra cómo se cumple la conservación de la masa en la siguiente reacción química. Sugerencia: hacer un balance estequiométrico y luego emplear la masa molecular de reactivos y productos."
      ]
    },
    {
      "cell_type": "code",
      "execution_count": null,
      "metadata": {
        "colab": {
          "base_uri": "https://localhost:8080/",
          "height": 289,
          "referenced_widgets": [
            "d4691835f4474884829213796343340f",
            "35b7ce94b6e84d4c985918e50984dcd7"
          ]
        },
        "id": "CC0mAXWmnYyN",
        "outputId": "fb9a2a33-11fa-47cd-bffe-ce9c285db1d8"
      },
      "outputs": [
        {
          "data": {
            "application/vnd.jupyter.widget-view+json": {
              "model_id": "d4691835f4474884829213796343340f",
              "version_major": 2,
              "version_minor": 0
            },
            "text/plain": [
              "SmilesDrawer(background='#1e1e1e', options={'scale': 1.25}, theme='dark', value=[('Rxn', 'C(C1C(C(C(C(O1)O)O)O…"
            ]
          },
          "metadata": {
            "application/vnd.jupyter.widget-view+json": {
              "colab": {
                "custom_widget_manager": {
                  "url": "https://ssl.gstatic.com/colaboratory-static/widgets/colab-cdn-widget-manager/b3e629b1971e1542/manager.min.js"
                }
              }
            }
          },
          "output_type": "display_data"
        }
      ],
      "source": [
        "SmilesDrawer(value=[(\"Rxn\", \"C(C1C(C(C(C(O1)O)O)O)O)O.O=O>>C(=O)=O.O\")], theme='dark', background=\"#1e1e1e\", options={'scale': 1.25})"
      ]
    },
    {
      "cell_type": "code",
      "execution_count": null,
      "metadata": {
        "id": "RIlxAC1o45fU"
      },
      "outputs": [],
      "source": [
        "C6H12O6 + 6O2 = 6CO2 + 6H2O"
      ]
    },
    {
      "cell_type": "code",
      "execution_count": null,
      "metadata": {
        "id": "6qtXVqY8894v"
      },
      "outputs": [],
      "source": [
        "# Definir las masas molares de los elementos en g/mol\n",
        "masa_molar_C = 12\n",
        "masa_molar_H = 1\n",
        "masa_molar_O = 16"
      ]
    },
    {
      "cell_type": "code",
      "source": [
        "masa_inicial_C6H12O6 = 180\n",
        "masa_inicial_O2 = 32\n",
        "\n",
        "masa_total_reactivos = masa_inicial_C6H12O6 + 6 * masa_inicial_O2\n",
        "\n",
        "masa_final_CO2 = 44\n",
        "masa_final_H2O = 18\n",
        "\n",
        "masa_total_productos = 6 * masa_final_CO2 + 6 * masa_final_H2O\n",
        "\n",
        "# Comprobar si la masa total de los reactivos es igual a la masa total de los productos\n",
        "\n",
        "if masa_total_reactivos == masa_total_productos:\n",
        "    print(\"La conservación de la masa se cumple en la reacción.\")\n",
        "else:\n",
        "    print(\"La conservación de la masa no se cumple en la reacción.\")\n",
        "\n",
        "\n",
        "print(\"Masa total de reactivos:\", masa_total_reactivos, \"gramos\")\n",
        "print(\"Masa total de productos:\", masa_total_productos, \"gramos\")"
      ],
      "metadata": {
        "colab": {
          "base_uri": "https://localhost:8080/"
        },
        "id": "m9ta3hPfZqGr",
        "outputId": "86336df9-4b2e-4d58-c97f-91db2f28b9fa"
      },
      "execution_count": null,
      "outputs": [
        {
          "output_type": "stream",
          "name": "stdout",
          "text": [
            "La conservación de la masa se cumple en la reacción.\n",
            "Masa total de reactivos: 372 gramos\n",
            "Masa total de productos: 372 gramos\n"
          ]
        }
      ]
    },
    {
      "cell_type": "markdown",
      "metadata": {
        "id": "Rh-nAUiKhJNB"
      },
      "source": [
        "## Pregunta 4: Notación científica (4 puntos)"
      ]
    },
    {
      "cell_type": "markdown",
      "metadata": {
        "id": "NIkI45Xdqqnt"
      },
      "source": [
        "Imprime las siguientes operaciones según la notación científica:\n",
        "\n",
        "(1) $1.321 \\times 10^{-4} + 8.5 \\times 10^{-2}$\n",
        "\n",
        "\n",
        "(2) $1.71 \\times 10^{3} - 2.01 \\times 10^{2}\\$\n",
        "\n",
        "(3) $(7.4 \\times 10^5)(7.2 \\times 10^4)$\n",
        "\n",
        "(4) $(7.4 \\times 10^5)/(7.2 \\times 10^4)$"
      ]
    },
    {
      "cell_type": "code",
      "execution_count": null,
      "metadata": {
        "colab": {
          "base_uri": "https://localhost:8080/"
        },
        "id": "Pz-ALQ-jI-_O",
        "outputId": "ab72ea87-3816-46d3-85d5-78c518175249"
      },
      "outputs": [
        {
          "output_type": "stream",
          "name": "stdout",
          "text": [
            "8.513e-02\n"
          ]
        }
      ],
      "source": [
        "numero1 = 1.321e-4\n",
        "numero2 = 8.5e-2\n",
        "\n",
        "resultado = numero1 + numero2\n",
        "\n",
        "# Imprimir el resultado con un número específico de cifras significativas\n",
        "cifras_significativas = 3\n",
        "resultado_formateado = format(resultado, f\".{cifras_significativas}e\")\n",
        "print(resultado_formateado)\n",
        "\n"
      ]
    },
    {
      "cell_type": "code",
      "execution_count": null,
      "metadata": {
        "colab": {
          "base_uri": "https://localhost:8080/"
        },
        "id": "2uh3t_AxJZMn",
        "outputId": "70941629-bd47-4c22-8f0d-6d0e05f7bff2"
      },
      "outputs": [
        {
          "output_type": "stream",
          "name": "stdout",
          "text": [
            "1.51e+03\n"
          ]
        }
      ],
      "source": [
        "#SEGUNDA ECUACIÓN\n",
        "num1 = 1.71e3\n",
        "num2 = 2.01e2\n",
        "resultado = num1 - num2\n",
        "\n",
        "# Imprimir el resultado con un número específico de cifras significativas\n",
        "cifras_significativas = 2\n",
        "resultado_formateado = format(resultado, f\".{cifras_significativas}e\")\n",
        "print(resultado_formateado)"
      ]
    },
    {
      "cell_type": "code",
      "execution_count": null,
      "metadata": {
        "colab": {
          "base_uri": "https://localhost:8080/"
        },
        "id": "z2usIoCcJzmo",
        "outputId": "87003085-b65e-43e3-b015-804efce6e39d"
      },
      "outputs": [
        {
          "output_type": "stream",
          "name": "stdout",
          "text": [
            "5.33e+10\n"
          ]
        }
      ],
      "source": [
        "#TERCERA ECUACIÓN\n",
        "num1 = 7.4e5\n",
        "num2 = 7.2e4\n",
        "resultado = num1 * num2\n",
        "\n",
        "# Imprimir el resultado con un número específico de cifras significativas\n",
        "cifras_significativas = 2\n",
        "resultado_formateado = format(resultado, f\".{cifras_significativas}e\")\n",
        "print(resultado_formateado)"
      ]
    },
    {
      "cell_type": "code",
      "execution_count": null,
      "metadata": {
        "colab": {
          "base_uri": "https://localhost:8080/"
        },
        "id": "3zNPqvoEKGsI",
        "outputId": "1e319021-109e-4d4c-d82f-4cd12e088f40"
      },
      "outputs": [
        {
          "output_type": "stream",
          "name": "stdout",
          "text": [
            "1.03e+01\n"
          ]
        }
      ],
      "source": [
        "#CUARTA ECUACIÓN\n",
        "num1 = 7.4e5\n",
        "num2 = 7.2e4\n",
        "resultado = num1 / num2\n",
        "\n",
        "# Imprimir el resultado con un número específico de cifras significativas\n",
        "cifras_significativas = 2\n",
        "resultado_formateado = format(resultado, f\".{cifras_significativas}e\")\n",
        "print(resultado_formateado)"
      ]
    },
    {
      "cell_type": "markdown",
      "metadata": {
        "id": "2Yfz0fYWwHdy"
      },
      "source": [
        "\n"
      ]
    },
    {
      "cell_type": "markdown",
      "metadata": {
        "id": "CuzCcXJghR14"
      },
      "source": [
        "## Pregunta 5: Método científico (4 puntos)"
      ]
    },
    {
      "cell_type": "markdown",
      "metadata": {
        "id": "WngRSR-Rhmx1"
      },
      "source": [
        "Artículo: https://bit.ly/3surZ1W\n",
        "Leer el siguiente artículo y explica cómo es aplicado el método científico. Emplea como máximo 300 palabras."
      ]
    },
    {
      "cell_type": "markdown",
      "metadata": {
        "id": "wADfdJVM5jxR"
      },
      "source": [
        "El método científico consta de distintos pasos, estos son:\n",
        "1.OBSERVACIÓN: Los investigadores observaron un material llamado LK-99 que era un superconductor a temperatura ambiente.\n",
        "2.PLANTEAMIENTO DEL PROBLEMA: El material en cuestión, LK-99, era realemnte un superconductor o solo tenia propiedades que lo hacian tener un comportamiento similar al de un superconductor.\n",
        "3.HIPÓTESIS: El LK-99 es un superconductor genuino a temperatura ambiente, y su comportamiento similar al de los superconductores se debe a sus propiedades intrínsecas como material.\n",
        "4.EXPERIMENTACIÓN:  Se llevan a cabo experimentos para probar la hipótesis. Se mencionan dos propiedades específicas del material que se investigan: su capacidad para levitar sobre un imán, donde se analizaron videos y se llevaron a cabo experimentos para comprender si realmente exhibía este comportamiento; y las caídas abruptas en su resistividad eléctrica donde se realizaron mediciones de resistividad eléctrica en muestras de LK-99 para evaluar su comportamiento conductor.\n",
        "5.CONCLUSIÓN: Finalmente, los científicos llegan a una conclusión basada en la evidencia recopilada. En este caso, se concluye que LK-99 no es un superconductor a temperatura ambiente y que sus propiedades de levitación y resistividad estaban relacionadas con impurezas en el material, en particular, el sulfuro de cobre.\n"
      ]
    }
  ],
  "metadata": {
    "colab": {
      "provenance": [],
      "include_colab_link": true
    },
    "kernelspec": {
      "display_name": "Python 3",
      "name": "python3"
    },
    "language_info": {
      "name": "python"
    },
    "widgets": {
      "application/vnd.jupyter.widget-state+json": {
        "35b7ce94b6e84d4c985918e50984dcd7": {
          "model_module": "@jupyter-widgets/base",
          "model_module_version": "1.2.0",
          "model_name": "LayoutModel",
          "state": {
            "_model_module": "@jupyter-widgets/base",
            "_model_module_version": "1.2.0",
            "_model_name": "LayoutModel",
            "_view_count": null,
            "_view_module": "@jupyter-widgets/base",
            "_view_module_version": "1.2.0",
            "_view_name": "LayoutView",
            "align_content": null,
            "align_items": null,
            "align_self": null,
            "border": null,
            "bottom": null,
            "display": null,
            "flex": null,
            "flex_flow": null,
            "grid_area": null,
            "grid_auto_columns": null,
            "grid_auto_flow": null,
            "grid_auto_rows": null,
            "grid_column": null,
            "grid_gap": null,
            "grid_row": null,
            "grid_template_areas": null,
            "grid_template_columns": null,
            "grid_template_rows": null,
            "height": null,
            "justify_content": null,
            "justify_items": null,
            "left": null,
            "margin": null,
            "max_height": null,
            "max_width": null,
            "min_height": null,
            "min_width": null,
            "object_fit": null,
            "object_position": null,
            "order": null,
            "overflow": null,
            "overflow_x": null,
            "overflow_y": null,
            "padding": null,
            "right": null,
            "top": null,
            "visibility": null,
            "width": null
          }
        },
        "d4691835f4474884829213796343340f": {
          "model_module": "faerun-notebook",
          "model_module_version": "^0.1.5",
          "model_name": "SmilesDrawerModel",
          "state": {
            "_dom_classes": [],
            "_model_module": "faerun-notebook",
            "_model_module_version": "^0.1.5",
            "_model_name": "SmilesDrawerModel",
            "_view_count": null,
            "_view_module": "faerun-notebook",
            "_view_module_version": "^0.1.5",
            "_view_name": "SmilesDrawerView",
            "background": "#1e1e1e",
            "border": true,
            "layout": "IPY_MODEL_35b7ce94b6e84d4c985918e50984dcd7",
            "options": {
              "scale": 1.25
            },
            "output": "svg",
            "theme": "dark",
            "value": [
              [
                "Rxn",
                "C(C1C(C(C(C(O1)O)O)O)O)O.O=O>>C(=O)=O.O"
              ]
            ]
          }
        }
      }
    }
  },
  "nbformat": 4,
  "nbformat_minor": 0
}